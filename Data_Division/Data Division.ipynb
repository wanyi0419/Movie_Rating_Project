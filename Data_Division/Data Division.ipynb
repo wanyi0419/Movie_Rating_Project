{
 "cells": [
  {
   "cell_type": "code",
   "execution_count": 6,
   "metadata": {},
   "outputs": [],
   "source": [
    "import pandas as pd\n",
    "import numpy as np"
   ]
  },
  {
   "cell_type": "code",
   "execution_count": 7,
   "metadata": {},
   "outputs": [],
   "source": [
    "#divide data into training and testing sets\n",
    "data = pd.read_csv('user_ratings.csv')\n",
    "\n",
    "train = data.sample(frac=0.8, random_state=25)\n",
    "test = data.drop(train.index)\n",
    "\n",
    "train.to_csv('train_rating.csv', index = False)\n",
    "test.to_csv('test_rating.csv', index = False)"
   ]
  },
  {
   "cell_type": "code",
   "execution_count": 15,
   "metadata": {},
   "outputs": [
    {
     "name": "stdout",
     "output_type": "stream",
     "text": [
      "0.2\n",
      "0.8\n"
     ]
    }
   ],
   "source": [
    "#check size of division\n",
    "train_t = pd.read_csv('train_rating.csv')\n",
    "test_t = pd.read_csv('test_rating.csv')\n",
    "print(test_t.shape[0]/data.shape[0])\n",
    "print(train_t.shape[0]/data.shape[0])"
   ]
  }
 ],
 "metadata": {
  "kernelspec": {
   "display_name": "Python 3 (ipykernel)",
   "language": "python",
   "name": "python3"
  },
  "language_info": {
   "codemirror_mode": {
    "name": "ipython",
    "version": 3
   },
   "file_extension": ".py",
   "mimetype": "text/x-python",
   "name": "python",
   "nbconvert_exporter": "python",
   "pygments_lexer": "ipython3",
   "version": "3.8.5"
  }
 },
 "nbformat": 4,
 "nbformat_minor": 4
}
